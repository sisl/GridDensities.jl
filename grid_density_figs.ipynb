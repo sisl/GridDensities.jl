{
 "cells": [
  {
   "cell_type": "code",
   "execution_count": 1,
   "metadata": {},
   "outputs": [
    {
     "name": "stderr",
     "output_type": "stream",
     "text": [
      "┌ Info: Recompiling stale cache file /Users/sydneykatz/.julia/compiled/v1.0/GridDensities/0fLC0.ji for GridDensities [30cfb417-a18a-4984-907c-c461bfb07c95]\n",
      "└ @ Base loading.jl:1184\n"
     ]
    }
   ],
   "source": [
    "using PGFPlots\n",
    "using GridDensities"
   ]
  },
  {
   "cell_type": "code",
   "execution_count": 2,
   "metadata": {},
   "outputs": [],
   "source": [
    "include(\"support_code.jl\");"
   ]
  },
  {
   "cell_type": "code",
   "execution_count": 3,
   "metadata": {},
   "outputs": [],
   "source": [
    "d1 = GridDensity(rand(8), [0.0, 0.0], [2.0, 4.0], [2, 4]);\n",
    "d2 = GridDensity(collect(1:8), [0.0, 0.0], [2.0, 4.0], [2, 4]);"
   ]
  },
  {
   "cell_type": "code",
   "execution_count": 12,
   "metadata": {},
   "outputs": [
    {
     "data": {
      "text/plain": [
       "get_heat2 (generic function with 1 method)"
      ]
     },
     "execution_count": 12,
     "metadata": {},
     "output_type": "execute_result"
    }
   ],
   "source": [
    "function get_heat1(x, y)\n",
    "    return -pdf(d1, [x,y])\n",
    "end\n",
    "\n",
    "function get_heat2(x, y)\n",
    "    return pdf(d2, [x,y])\n",
    "end"
   ]
  },
  {
   "cell_type": "code",
   "execution_count": 13,
   "metadata": {},
   "outputs": [
    {
     "data": {
      "image/svg+xml": [
       "<?xml version=\"1.0\" encoding=\"UTF-8\"?>\n",
       "<svg xmlns=\"http://www.w3.org/2000/svg\" xmlns:xlink=\"http://www.w3.org/1999/xlink\" width=\"211.902pt\" height=\"181.186pt\" viewBox=\"0 0 211.902 181.186\" version=\"1.1\">\n",
       "<defs>\n",
       "<g>\n",
       "<symbol overflow=\"visible\" id=\"glyph-1585330157632544-0-0\">\n",
       "<path style=\"stroke:none;\" d=\"\"/>\n",
       "</symbol>\n",
       "<symbol overflow=\"visible\" id=\"glyph-1585330157632544-0-1\">\n",
       "<path style=\"stroke:none;\" d=\"M 4.578125 -3.1875 C 4.578125 -3.984375 4.53125 -4.78125 4.1875 -5.515625 C 3.734375 -6.484375 2.90625 -6.640625 2.5 -6.640625 C 1.890625 -6.640625 1.171875 -6.375 0.75 -5.453125 C 0.4375 -4.765625 0.390625 -3.984375 0.390625 -3.1875 C 0.390625 -2.4375 0.421875 -1.546875 0.84375 -0.78125 C 1.265625 0.015625 2 0.21875 2.484375 0.21875 C 3.015625 0.21875 3.78125 0.015625 4.21875 -0.9375 C 4.53125 -1.625 4.578125 -2.40625 4.578125 -3.1875 Z M 2.484375 0 C 2.09375 0 1.5 -0.25 1.328125 -1.203125 C 1.21875 -1.796875 1.21875 -2.71875 1.21875 -3.3125 C 1.21875 -3.953125 1.21875 -4.609375 1.296875 -5.140625 C 1.484375 -6.328125 2.234375 -6.421875 2.484375 -6.421875 C 2.8125 -6.421875 3.46875 -6.234375 3.65625 -5.25 C 3.765625 -4.6875 3.765625 -3.9375 3.765625 -3.3125 C 3.765625 -2.5625 3.765625 -1.890625 3.65625 -1.25 C 3.5 -0.296875 2.9375 0 2.484375 0 Z M 2.484375 0 \"/>\n",
       "</symbol>\n",
       "<symbol overflow=\"visible\" id=\"glyph-1585330157632544-0-2\">\n",
       "<path style=\"stroke:none;\" d=\"M 4.46875 -2 C 4.46875 -3.1875 3.65625 -4.1875 2.578125 -4.1875 C 2.109375 -4.1875 1.671875 -4.03125 1.3125 -3.671875 L 1.3125 -5.625 C 1.515625 -5.5625 1.84375 -5.5 2.15625 -5.5 C 3.390625 -5.5 4.09375 -6.40625 4.09375 -6.53125 C 4.09375 -6.59375 4.0625 -6.640625 3.984375 -6.640625 C 3.984375 -6.640625 3.953125 -6.640625 3.90625 -6.609375 C 3.703125 -6.515625 3.21875 -6.3125 2.546875 -6.3125 C 2.15625 -6.3125 1.6875 -6.390625 1.21875 -6.59375 C 1.140625 -6.625 1.125 -6.625 1.109375 -6.625 C 1 -6.625 1 -6.546875 1 -6.390625 L 1 -3.4375 C 1 -3.265625 1 -3.1875 1.140625 -3.1875 C 1.21875 -3.1875 1.234375 -3.203125 1.28125 -3.265625 C 1.390625 -3.421875 1.75 -3.96875 2.5625 -3.96875 C 3.078125 -3.96875 3.328125 -3.515625 3.40625 -3.328125 C 3.5625 -2.953125 3.59375 -2.578125 3.59375 -2.078125 C 3.59375 -1.71875 3.59375 -1.125 3.34375 -0.703125 C 3.109375 -0.3125 2.734375 -0.0625 2.28125 -0.0625 C 1.5625 -0.0625 0.984375 -0.59375 0.8125 -1.171875 C 0.84375 -1.171875 0.875 -1.15625 0.984375 -1.15625 C 1.3125 -1.15625 1.484375 -1.40625 1.484375 -1.640625 C 1.484375 -1.890625 1.3125 -2.140625 0.984375 -2.140625 C 0.84375 -2.140625 0.5 -2.0625 0.5 -1.609375 C 0.5 -0.75 1.1875 0.21875 2.296875 0.21875 C 3.453125 0.21875 4.46875 -0.734375 4.46875 -2 Z M 4.46875 -2 \"/>\n",
       "</symbol>\n",
       "<symbol overflow=\"visible\" id=\"glyph-1585330157632544-0-3\">\n",
       "<path style=\"stroke:none;\" d=\"M 2.9375 -6.375 C 2.9375 -6.625 2.9375 -6.640625 2.703125 -6.640625 C 2.078125 -6 1.203125 -6 0.890625 -6 L 0.890625 -5.6875 C 1.09375 -5.6875 1.671875 -5.6875 2.1875 -5.953125 L 2.1875 -0.78125 C 2.1875 -0.421875 2.15625 -0.3125 1.265625 -0.3125 L 0.953125 -0.3125 L 0.953125 0 C 1.296875 -0.03125 2.15625 -0.03125 2.5625 -0.03125 C 2.953125 -0.03125 3.828125 -0.03125 4.171875 0 L 4.171875 -0.3125 L 3.859375 -0.3125 C 2.953125 -0.3125 2.9375 -0.421875 2.9375 -0.78125 Z M 2.9375 -6.375 \"/>\n",
       "</symbol>\n",
       "<symbol overflow=\"visible\" id=\"glyph-1585330157632544-0-4\">\n",
       "<path style=\"stroke:none;\" d=\"M 1.265625 -0.765625 L 2.328125 -1.796875 C 3.875 -3.171875 4.46875 -3.703125 4.46875 -4.703125 C 4.46875 -5.84375 3.578125 -6.640625 2.359375 -6.640625 C 1.234375 -6.640625 0.5 -5.71875 0.5 -4.828125 C 0.5 -4.28125 1 -4.28125 1.03125 -4.28125 C 1.203125 -4.28125 1.546875 -4.390625 1.546875 -4.8125 C 1.546875 -5.0625 1.359375 -5.328125 1.015625 -5.328125 C 0.9375 -5.328125 0.921875 -5.328125 0.890625 -5.3125 C 1.109375 -5.96875 1.65625 -6.328125 2.234375 -6.328125 C 3.140625 -6.328125 3.5625 -5.515625 3.5625 -4.703125 C 3.5625 -3.90625 3.078125 -3.125 2.515625 -2.5 L 0.609375 -0.375 C 0.5 -0.265625 0.5 -0.234375 0.5 0 L 4.203125 0 L 4.46875 -1.734375 L 4.234375 -1.734375 C 4.171875 -1.4375 4.109375 -1 4 -0.84375 C 3.9375 -0.765625 3.28125 -0.765625 3.0625 -0.765625 Z M 1.265625 -0.765625 \"/>\n",
       "</symbol>\n",
       "<symbol overflow=\"visible\" id=\"glyph-1585330157632544-0-5\">\n",
       "<path style=\"stroke:none;\" d=\"M 2.890625 -3.515625 C 3.703125 -3.78125 4.28125 -4.46875 4.28125 -5.265625 C 4.28125 -6.078125 3.40625 -6.640625 2.453125 -6.640625 C 1.453125 -6.640625 0.6875 -6.046875 0.6875 -5.28125 C 0.6875 -4.953125 0.90625 -4.765625 1.203125 -4.765625 C 1.5 -4.765625 1.703125 -4.984375 1.703125 -5.28125 C 1.703125 -5.765625 1.234375 -5.765625 1.09375 -5.765625 C 1.390625 -6.265625 2.046875 -6.390625 2.40625 -6.390625 C 2.828125 -6.390625 3.375 -6.171875 3.375 -5.28125 C 3.375 -5.15625 3.34375 -4.578125 3.09375 -4.140625 C 2.796875 -3.65625 2.453125 -3.625 2.203125 -3.625 C 2.125 -3.609375 1.890625 -3.59375 1.8125 -3.59375 C 1.734375 -3.578125 1.671875 -3.5625 1.671875 -3.46875 C 1.671875 -3.359375 1.734375 -3.359375 1.90625 -3.359375 L 2.34375 -3.359375 C 3.15625 -3.359375 3.53125 -2.6875 3.53125 -1.703125 C 3.53125 -0.34375 2.84375 -0.0625 2.40625 -0.0625 C 1.96875 -0.0625 1.21875 -0.234375 0.875 -0.8125 C 1.21875 -0.765625 1.53125 -0.984375 1.53125 -1.359375 C 1.53125 -1.71875 1.265625 -1.921875 0.984375 -1.921875 C 0.734375 -1.921875 0.421875 -1.78125 0.421875 -1.34375 C 0.421875 -0.4375 1.34375 0.21875 2.4375 0.21875 C 3.65625 0.21875 4.5625 -0.6875 4.5625 -1.703125 C 4.5625 -2.515625 3.921875 -3.296875 2.890625 -3.515625 Z M 2.890625 -3.515625 \"/>\n",
       "</symbol>\n",
       "<symbol overflow=\"visible\" id=\"glyph-1585330157632544-0-6\">\n",
       "<path style=\"stroke:none;\" d=\"M 2.9375 -1.640625 L 2.9375 -0.78125 C 2.9375 -0.421875 2.90625 -0.3125 2.171875 -0.3125 L 1.96875 -0.3125 L 1.96875 0 C 2.375 -0.03125 2.890625 -0.03125 3.3125 -0.03125 C 3.734375 -0.03125 4.25 -0.03125 4.671875 0 L 4.671875 -0.3125 L 4.453125 -0.3125 C 3.71875 -0.3125 3.703125 -0.421875 3.703125 -0.78125 L 3.703125 -1.640625 L 4.6875 -1.640625 L 4.6875 -1.953125 L 3.703125 -1.953125 L 3.703125 -6.484375 C 3.703125 -6.6875 3.703125 -6.75 3.53125 -6.75 C 3.453125 -6.75 3.421875 -6.75 3.34375 -6.625 L 0.28125 -1.953125 L 0.28125 -1.640625 Z M 2.984375 -1.953125 L 0.5625 -1.953125 L 2.984375 -5.671875 Z M 2.984375 -1.953125 \"/>\n",
       "</symbol>\n",
       "<symbol overflow=\"visible\" id=\"glyph-1585330157632544-1-0\">\n",
       "<path style=\"stroke:none;\" d=\"\"/>\n",
       "</symbol>\n",
       "<symbol overflow=\"visible\" id=\"glyph-1585330157632544-1-1\">\n",
       "<path style=\"stroke:none;\" d=\"M 1.90625 -0.53125 C 1.90625 -0.8125 1.671875 -1.0625 1.390625 -1.0625 C 1.09375 -1.0625 0.859375 -0.8125 0.859375 -0.53125 C 0.859375 -0.234375 1.09375 0 1.390625 0 C 1.671875 0 1.90625 -0.234375 1.90625 -0.53125 Z M 1.90625 -0.53125 \"/>\n",
       "</symbol>\n",
       "</g>\n",
       "<clipPath id=\"clip-1585330157632544-1\">\n",
       "  <path d=\"M 12 7 L 206 7 L 206 167.925781 L 12 167.925781 Z M 12 7 \"/>\n",
       "</clipPath>\n",
       "<image style=\"image-rendering: pixelated;\" id=\"image-1585330157632544-5\" width=\"100\" height=\"100\" xlink:href=\"data:image/png;base64,iVBORw0KGgoAAAANSUhEUgAAAGQAAABkCAIAAAD/gAIDAAAABmJLR0QA/wD/AP+gvaeTAAABKUlEQVR4nO3SoW0CUABF0dLgMVWVEAwSh62oYyZ2YSEUmqAYoLqEBb656rfJORO83LzF9/709vc8L9fZEwbeZw/4T8QKxArECsQKxArECsQKxArECsQKxArECsQKxArECsQKxArECsQKxArECsQKxAqW9+Nq9oaB1e4we8KAZwViBWIFYgViBWIFYgViBWIFYgViBWIFYgViBWIFYgViBWIFYgViBWIFYgViBWIFy83XbfaGgev6c/aEAc8KxArECsQKxArECsQKxArECsQKxArECsQKxArECsQKxArECsQKxArECsQKxArECha/j+3sDQPnn4/ZEwY8KxArECsQKxArECsQKxArECsQKxArECsQKxArECsQKxArECsQKxArECsQKxArECt4AVPwDBr0I1XnAAAAAElFTkSuQmCC\"/>\n",
       "</defs>\n",
       "<g id=\"surface1\">\n",
       "<g clip-path=\"url(#clip-1585330157632544-1)\" clip-rule=\"nonzero\">\n",
       "<use xlink:href=\"#image-1585330157632544-5\" transform=\"matrix(1.943,0,0,1.61418,11.822,6.507)\"/>\n",
       "</g>\n",
       "<path style=\"fill:none;stroke-width:0.19925;stroke-linecap:butt;stroke-linejoin:miter;stroke:rgb(50%,50%,50%);stroke-opacity:1;stroke-miterlimit:10;\" d=\"M -0.0016875 -0.00078125 L -0.0016875 4.253125 M 48.568625 -0.00078125 L 48.568625 4.253125 M 97.135031 -0.00078125 L 97.135031 4.253125 M 145.705344 -0.00078125 L 145.705344 4.253125 M 194.27175 -0.00078125 L 194.27175 4.253125 M -0.0016875 161.397656 L -0.0016875 157.14375 M 48.568625 161.397656 L 48.568625 157.14375 M 97.135031 161.397656 L 97.135031 157.14375 M 145.705344 161.397656 L 145.705344 157.14375 M 194.27175 161.397656 L 194.27175 157.14375 \" transform=\"matrix(1,0,0,-1,11.822,167.925)\"/>\n",
       "<path style=\"fill:none;stroke-width:0.19925;stroke-linecap:butt;stroke-linejoin:miter;stroke:rgb(50%,50%,50%);stroke-opacity:1;stroke-miterlimit:10;\" d=\"M -0.0016875 -0.00078125 L 4.252219 -0.00078125 M -0.0016875 40.350781 L 4.252219 40.350781 M -0.0016875 80.698438 L 4.252219 80.698438 M -0.0016875 121.046094 L 4.252219 121.046094 M -0.0016875 161.397656 L 4.252219 161.397656 M 194.27175 -0.00078125 L 190.02175 -0.00078125 M 194.27175 40.350781 L 190.02175 40.350781 M 194.27175 80.698438 L 190.02175 80.698438 M 194.27175 121.046094 L 190.02175 121.046094 M 194.27175 161.397656 L 190.02175 161.397656 \" transform=\"matrix(1,0,0,-1,11.822,167.925)\"/>\n",
       "<path style=\"fill:none;stroke-width:0.3985;stroke-linecap:butt;stroke-linejoin:miter;stroke:rgb(0%,0%,0%);stroke-opacity:1;stroke-miterlimit:10;\" d=\"M -0.0016875 -0.00078125 L -0.0016875 161.397656 L 194.27175 161.397656 L 194.27175 -0.00078125 Z M -0.0016875 -0.00078125 \" transform=\"matrix(1,0,0,-1,11.822,167.925)\"/>\n",
       "<g style=\"fill:rgb(0%,0%,0%);fill-opacity:1;\">\n",
       "  <use xlink:href=\"#glyph-1585330157632544-0-1\" x=\"9.331\" y=\"177.865\"/>\n",
       "</g>\n",
       "<g style=\"fill:rgb(0%,0%,0%);fill-opacity:1;\">\n",
       "  <use xlink:href=\"#glyph-1585330157632544-0-1\" x=\"54.024\" y=\"177.865\"/>\n",
       "</g>\n",
       "<g style=\"fill:rgb(0%,0%,0%);fill-opacity:1;\">\n",
       "  <use xlink:href=\"#glyph-1585330157632544-1-1\" x=\"59.005\" y=\"177.865\"/>\n",
       "</g>\n",
       "<g style=\"fill:rgb(0%,0%,0%);fill-opacity:1;\">\n",
       "  <use xlink:href=\"#glyph-1585330157632544-0-2\" x=\"61.773\" y=\"177.865\"/>\n",
       "</g>\n",
       "<g style=\"fill:rgb(0%,0%,0%);fill-opacity:1;\">\n",
       "  <use xlink:href=\"#glyph-1585330157632544-0-3\" x=\"106.466\" y=\"177.865\"/>\n",
       "</g>\n",
       "<g style=\"fill:rgb(0%,0%,0%);fill-opacity:1;\">\n",
       "  <use xlink:href=\"#glyph-1585330157632544-0-3\" x=\"151.159\" y=\"177.865\"/>\n",
       "</g>\n",
       "<g style=\"fill:rgb(0%,0%,0%);fill-opacity:1;\">\n",
       "  <use xlink:href=\"#glyph-1585330157632544-1-1\" x=\"156.14\" y=\"177.865\"/>\n",
       "</g>\n",
       "<g style=\"fill:rgb(0%,0%,0%);fill-opacity:1;\">\n",
       "  <use xlink:href=\"#glyph-1585330157632544-0-2\" x=\"158.908\" y=\"177.865\"/>\n",
       "</g>\n",
       "<g style=\"fill:rgb(0%,0%,0%);fill-opacity:1;\">\n",
       "  <use xlink:href=\"#glyph-1585330157632544-0-4\" x=\"203.601\" y=\"177.865\"/>\n",
       "</g>\n",
       "<g style=\"fill:rgb(0%,0%,0%);fill-opacity:1;\">\n",
       "  <use xlink:href=\"#glyph-1585330157632544-0-1\" x=\"3.321\" y=\"171.136\"/>\n",
       "</g>\n",
       "<g style=\"fill:rgb(0%,0%,0%);fill-opacity:1;\">\n",
       "  <use xlink:href=\"#glyph-1585330157632544-0-3\" x=\"3.321\" y=\"130.787\"/>\n",
       "</g>\n",
       "<g style=\"fill:rgb(0%,0%,0%);fill-opacity:1;\">\n",
       "  <use xlink:href=\"#glyph-1585330157632544-0-4\" x=\"3.321\" y=\"90.438\"/>\n",
       "</g>\n",
       "<g style=\"fill:rgb(0%,0%,0%);fill-opacity:1;\">\n",
       "  <use xlink:href=\"#glyph-1585330157632544-0-5\" x=\"3.321\" y=\"50.09\"/>\n",
       "</g>\n",
       "<g style=\"fill:rgb(0%,0%,0%);fill-opacity:1;\">\n",
       "  <use xlink:href=\"#glyph-1585330157632544-0-6\" x=\"3.321\" y=\"9.741\"/>\n",
       "</g>\n",
       "</g>\n",
       "</svg>\n",
       "\n"
      ],
      "text/plain": [
       "Axis(PGFPlots.Plots.Plot[Image(\"tmp_10000000000005.png\", 0, 2, 0, 4, 0.0277778, 0.222222, nothing, false, nothing, RGBArrayMap(RGB{Float64}[RGB{Float64}(0.993248,0.906157,0.143936), RGB{Float64}(0.983868,0.904867,0.136897), RGB{Float64}(0.974417,0.90359,0.130215), RGB{Float64}(0.964894,0.902323,0.123941), RGB{Float64}(0.9553,0.901065,0.118128), RGB{Float64}(0.945636,0.899815,0.112838), RGB{Float64}(0.935904,0.89857,0.108131), RGB{Float64}(0.926106,0.89733,0.104071), RGB{Float64}(0.916242,0.896091,0.100717), RGB{Float64}(0.906311,0.894855,0.098125)  …  RGB{Float64}(0.277941,0.056324,0.381191), RGB{Float64}(0.277018,0.050344,0.375715), RGB{Float64}(0.276022,0.044167,0.370164), RGB{Float64}(0.274952,0.037752,0.364543), RGB{Float64}(0.273809,0.031497,0.358853), RGB{Float64}(0.272594,0.025563,0.353093), RGB{Float64}(0.271305,0.019942,0.347269), RGB{Float64}(0.269944,0.014625,0.341379), RGB{Float64}(0.26851,0.009605,0.335427), RGB{Float64}(0.267004,0.004874,0.329415)], 0x00000000000001f4), nothing, nothing)], nothing, nothing, nothing, nothing, nothing, nothing, nothing, nothing, nothing, nothing, nothing, nothing, nothing, nothing, nothing, nothing, nothing, nothing, nothing, nothing, nothing, nothing, nothing, nothing, nothing, nothing, nothing, \"axis\")"
      ]
     },
     "execution_count": 13,
     "metadata": {},
     "output_type": "execute_result"
    }
   ],
   "source": [
    "ax = Axis(Plots.Image(get_heat2, (0,2), (0,4), colormap=pasteljet, colorbar=false))"
   ]
  },
  {
   "cell_type": "code",
   "execution_count": 17,
   "metadata": {},
   "outputs": [],
   "source": [
    "numsamps = 100000\n",
    "samples = rand(d2, numsamps);"
   ]
  },
  {
   "cell_type": "code",
   "execution_count": 18,
   "metadata": {},
   "outputs": [
    {
     "data": {
      "image/svg+xml": [
       "<?xml version=\"1.0\" encoding=\"UTF-8\"?>\n",
       "<svg xmlns=\"http://www.w3.org/2000/svg\" xmlns:xlink=\"http://www.w3.org/1999/xlink\" width=\"211.902pt\" height=\"181.186pt\" viewBox=\"0 0 211.902 181.186\" version=\"1.1\">\n",
       "<defs>\n",
       "<g>\n",
       "<symbol overflow=\"visible\" id=\"glyph-1585330157632547-0-0\">\n",
       "<path style=\"stroke:none;\" d=\"\"/>\n",
       "</symbol>\n",
       "<symbol overflow=\"visible\" id=\"glyph-1585330157632547-0-1\">\n",
       "<path style=\"stroke:none;\" d=\"M 4.578125 -3.1875 C 4.578125 -3.984375 4.53125 -4.78125 4.1875 -5.515625 C 3.734375 -6.484375 2.90625 -6.640625 2.5 -6.640625 C 1.890625 -6.640625 1.171875 -6.375 0.75 -5.453125 C 0.4375 -4.765625 0.390625 -3.984375 0.390625 -3.1875 C 0.390625 -2.4375 0.421875 -1.546875 0.84375 -0.78125 C 1.265625 0.015625 2 0.21875 2.484375 0.21875 C 3.015625 0.21875 3.78125 0.015625 4.21875 -0.9375 C 4.53125 -1.625 4.578125 -2.40625 4.578125 -3.1875 Z M 2.484375 0 C 2.09375 0 1.5 -0.25 1.328125 -1.203125 C 1.21875 -1.796875 1.21875 -2.71875 1.21875 -3.3125 C 1.21875 -3.953125 1.21875 -4.609375 1.296875 -5.140625 C 1.484375 -6.328125 2.234375 -6.421875 2.484375 -6.421875 C 2.8125 -6.421875 3.46875 -6.234375 3.65625 -5.25 C 3.765625 -4.6875 3.765625 -3.9375 3.765625 -3.3125 C 3.765625 -2.5625 3.765625 -1.890625 3.65625 -1.25 C 3.5 -0.296875 2.9375 0 2.484375 0 Z M 2.484375 0 \"/>\n",
       "</symbol>\n",
       "<symbol overflow=\"visible\" id=\"glyph-1585330157632547-0-2\">\n",
       "<path style=\"stroke:none;\" d=\"M 4.46875 -2 C 4.46875 -3.1875 3.65625 -4.1875 2.578125 -4.1875 C 2.109375 -4.1875 1.671875 -4.03125 1.3125 -3.671875 L 1.3125 -5.625 C 1.515625 -5.5625 1.84375 -5.5 2.15625 -5.5 C 3.390625 -5.5 4.09375 -6.40625 4.09375 -6.53125 C 4.09375 -6.59375 4.0625 -6.640625 3.984375 -6.640625 C 3.984375 -6.640625 3.953125 -6.640625 3.90625 -6.609375 C 3.703125 -6.515625 3.21875 -6.3125 2.546875 -6.3125 C 2.15625 -6.3125 1.6875 -6.390625 1.21875 -6.59375 C 1.140625 -6.625 1.125 -6.625 1.109375 -6.625 C 1 -6.625 1 -6.546875 1 -6.390625 L 1 -3.4375 C 1 -3.265625 1 -3.1875 1.140625 -3.1875 C 1.21875 -3.1875 1.234375 -3.203125 1.28125 -3.265625 C 1.390625 -3.421875 1.75 -3.96875 2.5625 -3.96875 C 3.078125 -3.96875 3.328125 -3.515625 3.40625 -3.328125 C 3.5625 -2.953125 3.59375 -2.578125 3.59375 -2.078125 C 3.59375 -1.71875 3.59375 -1.125 3.34375 -0.703125 C 3.109375 -0.3125 2.734375 -0.0625 2.28125 -0.0625 C 1.5625 -0.0625 0.984375 -0.59375 0.8125 -1.171875 C 0.84375 -1.171875 0.875 -1.15625 0.984375 -1.15625 C 1.3125 -1.15625 1.484375 -1.40625 1.484375 -1.640625 C 1.484375 -1.890625 1.3125 -2.140625 0.984375 -2.140625 C 0.84375 -2.140625 0.5 -2.0625 0.5 -1.609375 C 0.5 -0.75 1.1875 0.21875 2.296875 0.21875 C 3.453125 0.21875 4.46875 -0.734375 4.46875 -2 Z M 4.46875 -2 \"/>\n",
       "</symbol>\n",
       "<symbol overflow=\"visible\" id=\"glyph-1585330157632547-0-3\">\n",
       "<path style=\"stroke:none;\" d=\"M 2.9375 -6.375 C 2.9375 -6.625 2.9375 -6.640625 2.703125 -6.640625 C 2.078125 -6 1.203125 -6 0.890625 -6 L 0.890625 -5.6875 C 1.09375 -5.6875 1.671875 -5.6875 2.1875 -5.953125 L 2.1875 -0.78125 C 2.1875 -0.421875 2.15625 -0.3125 1.265625 -0.3125 L 0.953125 -0.3125 L 0.953125 0 C 1.296875 -0.03125 2.15625 -0.03125 2.5625 -0.03125 C 2.953125 -0.03125 3.828125 -0.03125 4.171875 0 L 4.171875 -0.3125 L 3.859375 -0.3125 C 2.953125 -0.3125 2.9375 -0.421875 2.9375 -0.78125 Z M 2.9375 -6.375 \"/>\n",
       "</symbol>\n",
       "<symbol overflow=\"visible\" id=\"glyph-1585330157632547-0-4\">\n",
       "<path style=\"stroke:none;\" d=\"M 1.265625 -0.765625 L 2.328125 -1.796875 C 3.875 -3.171875 4.46875 -3.703125 4.46875 -4.703125 C 4.46875 -5.84375 3.578125 -6.640625 2.359375 -6.640625 C 1.234375 -6.640625 0.5 -5.71875 0.5 -4.828125 C 0.5 -4.28125 1 -4.28125 1.03125 -4.28125 C 1.203125 -4.28125 1.546875 -4.390625 1.546875 -4.8125 C 1.546875 -5.0625 1.359375 -5.328125 1.015625 -5.328125 C 0.9375 -5.328125 0.921875 -5.328125 0.890625 -5.3125 C 1.109375 -5.96875 1.65625 -6.328125 2.234375 -6.328125 C 3.140625 -6.328125 3.5625 -5.515625 3.5625 -4.703125 C 3.5625 -3.90625 3.078125 -3.125 2.515625 -2.5 L 0.609375 -0.375 C 0.5 -0.265625 0.5 -0.234375 0.5 0 L 4.203125 0 L 4.46875 -1.734375 L 4.234375 -1.734375 C 4.171875 -1.4375 4.109375 -1 4 -0.84375 C 3.9375 -0.765625 3.28125 -0.765625 3.0625 -0.765625 Z M 1.265625 -0.765625 \"/>\n",
       "</symbol>\n",
       "<symbol overflow=\"visible\" id=\"glyph-1585330157632547-0-5\">\n",
       "<path style=\"stroke:none;\" d=\"M 2.890625 -3.515625 C 3.703125 -3.78125 4.28125 -4.46875 4.28125 -5.265625 C 4.28125 -6.078125 3.40625 -6.640625 2.453125 -6.640625 C 1.453125 -6.640625 0.6875 -6.046875 0.6875 -5.28125 C 0.6875 -4.953125 0.90625 -4.765625 1.203125 -4.765625 C 1.5 -4.765625 1.703125 -4.984375 1.703125 -5.28125 C 1.703125 -5.765625 1.234375 -5.765625 1.09375 -5.765625 C 1.390625 -6.265625 2.046875 -6.390625 2.40625 -6.390625 C 2.828125 -6.390625 3.375 -6.171875 3.375 -5.28125 C 3.375 -5.15625 3.34375 -4.578125 3.09375 -4.140625 C 2.796875 -3.65625 2.453125 -3.625 2.203125 -3.625 C 2.125 -3.609375 1.890625 -3.59375 1.8125 -3.59375 C 1.734375 -3.578125 1.671875 -3.5625 1.671875 -3.46875 C 1.671875 -3.359375 1.734375 -3.359375 1.90625 -3.359375 L 2.34375 -3.359375 C 3.15625 -3.359375 3.53125 -2.6875 3.53125 -1.703125 C 3.53125 -0.34375 2.84375 -0.0625 2.40625 -0.0625 C 1.96875 -0.0625 1.21875 -0.234375 0.875 -0.8125 C 1.21875 -0.765625 1.53125 -0.984375 1.53125 -1.359375 C 1.53125 -1.71875 1.265625 -1.921875 0.984375 -1.921875 C 0.734375 -1.921875 0.421875 -1.78125 0.421875 -1.34375 C 0.421875 -0.4375 1.34375 0.21875 2.4375 0.21875 C 3.65625 0.21875 4.5625 -0.6875 4.5625 -1.703125 C 4.5625 -2.515625 3.921875 -3.296875 2.890625 -3.515625 Z M 2.890625 -3.515625 \"/>\n",
       "</symbol>\n",
       "<symbol overflow=\"visible\" id=\"glyph-1585330157632547-0-6\">\n",
       "<path style=\"stroke:none;\" d=\"M 2.9375 -1.640625 L 2.9375 -0.78125 C 2.9375 -0.421875 2.90625 -0.3125 2.171875 -0.3125 L 1.96875 -0.3125 L 1.96875 0 C 2.375 -0.03125 2.890625 -0.03125 3.3125 -0.03125 C 3.734375 -0.03125 4.25 -0.03125 4.671875 0 L 4.671875 -0.3125 L 4.453125 -0.3125 C 3.71875 -0.3125 3.703125 -0.421875 3.703125 -0.78125 L 3.703125 -1.640625 L 4.6875 -1.640625 L 4.6875 -1.953125 L 3.703125 -1.953125 L 3.703125 -6.484375 C 3.703125 -6.6875 3.703125 -6.75 3.53125 -6.75 C 3.453125 -6.75 3.421875 -6.75 3.34375 -6.625 L 0.28125 -1.953125 L 0.28125 -1.640625 Z M 2.984375 -1.953125 L 0.5625 -1.953125 L 2.984375 -5.671875 Z M 2.984375 -1.953125 \"/>\n",
       "</symbol>\n",
       "<symbol overflow=\"visible\" id=\"glyph-1585330157632547-1-0\">\n",
       "<path style=\"stroke:none;\" d=\"\"/>\n",
       "</symbol>\n",
       "<symbol overflow=\"visible\" id=\"glyph-1585330157632547-1-1\">\n",
       "<path style=\"stroke:none;\" d=\"M 1.90625 -0.53125 C 1.90625 -0.8125 1.671875 -1.0625 1.390625 -1.0625 C 1.09375 -1.0625 0.859375 -0.8125 0.859375 -0.53125 C 0.859375 -0.234375 1.09375 0 1.390625 0 C 1.671875 0 1.90625 -0.234375 1.90625 -0.53125 Z M 1.90625 -0.53125 \"/>\n",
       "</symbol>\n",
       "</g>\n",
       "<clipPath id=\"clip-1585330157632547-1\">\n",
       "  <path d=\"M 12 6.527344 L 206 6.527344 L 206 167.925781 L 12 167.925781 Z M 12 6.527344 \"/>\n",
       "</clipPath>\n",
       "<image style=\"image-rendering: pixelated;\" id=\"image-1585330157632547-5\" width=\"50\" height=\"50\" xlink:href=\"data:image/png;base64,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\"/>\n",
       "</defs>\n",
       "<g id=\"surface1\">\n",
       "<g clip-path=\"url(#clip-1585330157632547-1)\" clip-rule=\"nonzero\">\n",
       "<use xlink:href=\"#image-1585330157632547-5\" transform=\"matrix(3.8866,0,0,3.22888,11.822,6.481)\"/>\n",
       "</g>\n",
       "<path style=\"fill:none;stroke-width:0.19925;stroke-linecap:butt;stroke-linejoin:miter;stroke:rgb(50%,50%,50%);stroke-opacity:1;stroke-miterlimit:10;\" d=\"M -0.0016875 -0.00078125 L -0.0016875 4.253125 M 48.568625 -0.00078125 L 48.568625 4.253125 M 97.135031 -0.00078125 L 97.135031 4.253125 M 145.705344 -0.00078125 L 145.705344 4.253125 M 194.27175 -0.00078125 L 194.27175 4.253125 M -0.0016875 161.397656 L -0.0016875 157.14375 M 48.568625 161.397656 L 48.568625 157.14375 M 97.135031 161.397656 L 97.135031 157.14375 M 145.705344 161.397656 L 145.705344 157.14375 M 194.27175 161.397656 L 194.27175 157.14375 \" transform=\"matrix(1,0,0,-1,11.822,167.925)\"/>\n",
       "<path style=\"fill:none;stroke-width:0.19925;stroke-linecap:butt;stroke-linejoin:miter;stroke:rgb(50%,50%,50%);stroke-opacity:1;stroke-miterlimit:10;\" d=\"M -0.0016875 -0.00078125 L 4.252219 -0.00078125 M -0.0016875 40.350781 L 4.252219 40.350781 M -0.0016875 80.698438 L 4.252219 80.698438 M -0.0016875 121.046094 L 4.252219 121.046094 M -0.0016875 161.397656 L 4.252219 161.397656 M 194.27175 -0.00078125 L 190.02175 -0.00078125 M 194.27175 40.350781 L 190.02175 40.350781 M 194.27175 80.698438 L 190.02175 80.698438 M 194.27175 121.046094 L 190.02175 121.046094 M 194.27175 161.397656 L 190.02175 161.397656 \" transform=\"matrix(1,0,0,-1,11.822,167.925)\"/>\n",
       "<path style=\"fill:none;stroke-width:0.3985;stroke-linecap:butt;stroke-linejoin:miter;stroke:rgb(0%,0%,0%);stroke-opacity:1;stroke-miterlimit:10;\" d=\"M -0.0016875 -0.00078125 L -0.0016875 161.397656 L 194.27175 161.397656 L 194.27175 -0.00078125 Z M -0.0016875 -0.00078125 \" transform=\"matrix(1,0,0,-1,11.822,167.925)\"/>\n",
       "<g style=\"fill:rgb(0%,0%,0%);fill-opacity:1;\">\n",
       "  <use xlink:href=\"#glyph-1585330157632547-0-1\" x=\"9.331\" y=\"177.865\"/>\n",
       "</g>\n",
       "<g style=\"fill:rgb(0%,0%,0%);fill-opacity:1;\">\n",
       "  <use xlink:href=\"#glyph-1585330157632547-0-1\" x=\"54.024\" y=\"177.865\"/>\n",
       "</g>\n",
       "<g style=\"fill:rgb(0%,0%,0%);fill-opacity:1;\">\n",
       "  <use xlink:href=\"#glyph-1585330157632547-1-1\" x=\"59.005\" y=\"177.865\"/>\n",
       "</g>\n",
       "<g style=\"fill:rgb(0%,0%,0%);fill-opacity:1;\">\n",
       "  <use xlink:href=\"#glyph-1585330157632547-0-2\" x=\"61.773\" y=\"177.865\"/>\n",
       "</g>\n",
       "<g style=\"fill:rgb(0%,0%,0%);fill-opacity:1;\">\n",
       "  <use xlink:href=\"#glyph-1585330157632547-0-3\" x=\"106.466\" y=\"177.865\"/>\n",
       "</g>\n",
       "<g style=\"fill:rgb(0%,0%,0%);fill-opacity:1;\">\n",
       "  <use xlink:href=\"#glyph-1585330157632547-0-3\" x=\"151.159\" y=\"177.865\"/>\n",
       "</g>\n",
       "<g style=\"fill:rgb(0%,0%,0%);fill-opacity:1;\">\n",
       "  <use xlink:href=\"#glyph-1585330157632547-1-1\" x=\"156.14\" y=\"177.865\"/>\n",
       "</g>\n",
       "<g style=\"fill:rgb(0%,0%,0%);fill-opacity:1;\">\n",
       "  <use xlink:href=\"#glyph-1585330157632547-0-2\" x=\"158.908\" y=\"177.865\"/>\n",
       "</g>\n",
       "<g style=\"fill:rgb(0%,0%,0%);fill-opacity:1;\">\n",
       "  <use xlink:href=\"#glyph-1585330157632547-0-4\" x=\"203.601\" y=\"177.865\"/>\n",
       "</g>\n",
       "<g style=\"fill:rgb(0%,0%,0%);fill-opacity:1;\">\n",
       "  <use xlink:href=\"#glyph-1585330157632547-0-1\" x=\"3.321\" y=\"171.136\"/>\n",
       "</g>\n",
       "<g style=\"fill:rgb(0%,0%,0%);fill-opacity:1;\">\n",
       "  <use xlink:href=\"#glyph-1585330157632547-0-3\" x=\"3.321\" y=\"130.787\"/>\n",
       "</g>\n",
       "<g style=\"fill:rgb(0%,0%,0%);fill-opacity:1;\">\n",
       "  <use xlink:href=\"#glyph-1585330157632547-0-4\" x=\"3.321\" y=\"90.438\"/>\n",
       "</g>\n",
       "<g style=\"fill:rgb(0%,0%,0%);fill-opacity:1;\">\n",
       "  <use xlink:href=\"#glyph-1585330157632547-0-5\" x=\"3.321\" y=\"50.09\"/>\n",
       "</g>\n",
       "<g style=\"fill:rgb(0%,0%,0%);fill-opacity:1;\">\n",
       "  <use xlink:href=\"#glyph-1585330157632547-0-6\" x=\"3.321\" y=\"9.741\"/>\n",
       "</g>\n",
       "</g>\n",
       "</svg>\n",
       "\n"
      ],
      "text/plain": [
       "Axis(PGFPlots.Plots.Plot[Image(\"tmp_10000000000009.png\", 0, 2, 0, 4, 3, 100, nothing, false, nothing, RGBArrayMap(RGB{Float64}[RGB{Float64}(0.993248,0.906157,0.143936), RGB{Float64}(0.983868,0.904867,0.136897), RGB{Float64}(0.974417,0.90359,0.130215), RGB{Float64}(0.964894,0.902323,0.123941), RGB{Float64}(0.9553,0.901065,0.118128), RGB{Float64}(0.945636,0.899815,0.112838), RGB{Float64}(0.935904,0.89857,0.108131), RGB{Float64}(0.926106,0.89733,0.104071), RGB{Float64}(0.916242,0.896091,0.100717), RGB{Float64}(0.906311,0.894855,0.098125)  …  RGB{Float64}(0.277941,0.056324,0.381191), RGB{Float64}(0.277018,0.050344,0.375715), RGB{Float64}(0.276022,0.044167,0.370164), RGB{Float64}(0.274952,0.037752,0.364543), RGB{Float64}(0.273809,0.031497,0.358853), RGB{Float64}(0.272594,0.025563,0.353093), RGB{Float64}(0.271305,0.019942,0.347269), RGB{Float64}(0.269944,0.014625,0.341379), RGB{Float64}(0.26851,0.009605,0.335427), RGB{Float64}(0.267004,0.004874,0.329415)], 0x00000000000001f4), nothing, nothing)], nothing, nothing, nothing, nothing, nothing, nothing, nothing, nothing, nothing, nothing, nothing, nothing, nothing, nothing, nothing, nothing, nothing, nothing, nothing, nothing, nothing, nothing, nothing, nothing, nothing, nothing, nothing, \"axis\")"
      ]
     },
     "execution_count": 18,
     "metadata": {},
     "output_type": "execute_result"
    }
   ],
   "source": [
    "xvals = [samples[i][1] for i = 1:numsamps]\n",
    "yvals = [samples[i][2] for i = 1:numsamps]\n",
    "ax = Axis(Plots.Histogram2(xvals, yvals, xmin=0, xmax=2, ymin=0, ymax=4, colormap=pasteljet, colorbar=false))"
   ]
  },
  {
   "cell_type": "code",
   "execution_count": 25,
   "metadata": {},
   "outputs": [
    {
     "data": {
      "image/svg+xml": [],
      "text/plain": [
       "GroupPlot(Axis[Axis(PGFPlots.Plots.Plot[Image(\"tmp_10000000000022.png\", 0, 2, 0, 4, 0.0277778, 0.222222, nothing, false, nothing, RGBArrayMap(RGB{Float64}[RGB{Float64}(0.993248,0.906157,0.143936), RGB{Float64}(0.983868,0.904867,0.136897), RGB{Float64}(0.974417,0.90359,0.130215), RGB{Float64}(0.964894,0.902323,0.123941), RGB{Float64}(0.9553,0.901065,0.118128), RGB{Float64}(0.945636,0.899815,0.112838), RGB{Float64}(0.935904,0.89857,0.108131), RGB{Float64}(0.926106,0.89733,0.104071), RGB{Float64}(0.916242,0.896091,0.100717), RGB{Float64}(0.906311,0.894855,0.098125)  …  RGB{Float64}(0.277941,0.056324,0.381191), RGB{Float64}(0.277018,0.050344,0.375715), RGB{Float64}(0.276022,0.044167,0.370164), RGB{Float64}(0.274952,0.037752,0.364543), RGB{Float64}(0.273809,0.031497,0.358853), RGB{Float64}(0.272594,0.025563,0.353093), RGB{Float64}(0.271305,0.019942,0.347269), RGB{Float64}(0.269944,0.014625,0.341379), RGB{Float64}(0.26851,0.009605,0.335427), RGB{Float64}(0.267004,0.004874,0.329415)], 0x00000000000001f4), nothing, nothing)], \"Probability Density Function (PDF)\", nothing, nothing, nothing, nothing, nothing, nothing, nothing, nothing, nothing, nothing, nothing, nothing, nothing, nothing, nothing, nothing, nothing, nothing, nothing, nothing, nothing, nothing, nothing, nothing, nothing, nothing, \"axis\"), Axis(PGFPlots.Plots.Plot[Image(\"tmp_10000000000023.png\", 0, 2, 0, 4, 3, 100, nothing, false, nothing, RGBArrayMap(RGB{Float64}[RGB{Float64}(0.993248,0.906157,0.143936), RGB{Float64}(0.983868,0.904867,0.136897), RGB{Float64}(0.974417,0.90359,0.130215), RGB{Float64}(0.964894,0.902323,0.123941), RGB{Float64}(0.9553,0.901065,0.118128), RGB{Float64}(0.945636,0.899815,0.112838), RGB{Float64}(0.935904,0.89857,0.108131), RGB{Float64}(0.926106,0.89733,0.104071), RGB{Float64}(0.916242,0.896091,0.100717), RGB{Float64}(0.906311,0.894855,0.098125)  …  RGB{Float64}(0.277941,0.056324,0.381191), RGB{Float64}(0.277018,0.050344,0.375715), RGB{Float64}(0.276022,0.044167,0.370164), RGB{Float64}(0.274952,0.037752,0.364543), RGB{Float64}(0.273809,0.031497,0.358853), RGB{Float64}(0.272594,0.025563,0.353093), RGB{Float64}(0.271305,0.019942,0.347269), RGB{Float64}(0.269944,0.014625,0.341379), RGB{Float64}(0.26851,0.009605,0.335427), RGB{Float64}(0.267004,0.004874,0.329415)], 0x00000000000001f4), nothing, nothing)], \"Histogram of 1,000,000 Samples\", nothing, nothing, nothing, nothing, nothing, nothing, nothing, nothing, nothing, nothing, nothing, nothing, nothing, nothing, nothing, nothing, nothing, nothing, nothing, nothing, nothing, nothing, nothing, nothing, nothing, nothing, \"axis\")], (2, 1), nothing, \"horizontal sep = 1.75cm\")"
      ]
     },
     "execution_count": 25,
     "metadata": {},
     "output_type": "execute_result"
    }
   ],
   "source": [
    "ax1 = Axis(Plots.Image(get_heat2, (0,2), (0,4), colormap=pasteljet, colorbar=false))\n",
    "ax1.title = \"Probability Density Function (PDF)\"\n",
    "ax2 = Axis(Plots.Histogram2(xvals, yvals, xmin=0, xmax=2, ymin=0, ymax=4, colormap=pasteljet, colorbar=false))\n",
    "ax2.title = \"Histogram of 1,000,000 Samples\"\n",
    "g = GroupPlot(2, 1, groupStyle = \"horizontal sep = 1.75cm\")\n",
    "push!(g, ax1)\n",
    "push!(g, ax2)\n",
    "PGFPlots.save(\"grid_density_ex.pdf\", g)\n",
    "g"
   ]
  },
  {
   "cell_type": "code",
   "execution_count": null,
   "metadata": {},
   "outputs": [],
   "source": []
  }
 ],
 "metadata": {
  "@webio": {
   "lastCommId": null,
   "lastKernelId": null
  },
  "kernelspec": {
   "display_name": "Julia 1.0.0",
   "language": "julia",
   "name": "julia-1.0"
  },
  "language_info": {
   "file_extension": ".jl",
   "mimetype": "application/julia",
   "name": "julia",
   "version": "1.0.0"
  }
 },
 "nbformat": 4,
 "nbformat_minor": 2
}
